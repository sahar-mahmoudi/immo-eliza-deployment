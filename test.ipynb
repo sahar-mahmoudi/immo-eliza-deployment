{
 "cells": [
  {
   "cell_type": "code",
   "execution_count": 2,
   "metadata": {},
   "outputs": [
    {
     "name": "stdout",
     "output_type": "stream",
     "text": [
      "{\"property_type\": \"APARTMENT\", \"subproperty_type\": \"APARTMENT\", \"region\": \"Brussels-Capital\", \"province\": \"Brussels\", \"locality\": \"Brussels\", \"zip_code\": 1000, \"latitude\": 50.855966, \"longitude\": 4.3498431, \"construction_year\": 2021.0, \"total_area_sqm\": 70.0, \"surface_land_sqm\": 70.0, \"nbr_frontages\": 2.0, \"nbr_bedrooms\": 1.0, \"equipped_kitchen\": \"MISSING\", \"fl_furnished\": 0, \"fl_open_fire\": 0, \"fl_terrace\": 1, \"terrace_sqm\": 10.0, \"fl_garden\": 0, \"garden_sqm\": 0.0, \"fl_swimming_pool\": 1, \"fl_floodzone\": 0, \"state_building\": \"MISSING\", \"primary_energy_consumption_sqm\": 17543.0, \"epc\": \"G\", \"heating_type\": \"GAS\", \"fl_double_glazing\": 1, \"cadastral_income\": 1.0}\n",
      "{'property_type': 'APARTMENT', 'subproperty_type': 'APARTMENT', 'region': 'Brussels-Capital', 'province': 'Brussels', 'locality': 'Brussels', 'zip_code': 1000, 'latitude': 50.855966, 'longitude': 4.3498431, 'construction_year': 2021.0, 'total_area_sqm': 70.0, 'surface_land_sqm': 70.0, 'nbr_frontages': 2.0, 'nbr_bedrooms': 1.0, 'equipped_kitchen': 'MISSING', 'fl_furnished': 0, 'fl_open_fire': 0, 'fl_terrace': 1, 'terrace_sqm': 10.0, 'fl_garden': 0, 'garden_sqm': 0.0, 'fl_swimming_pool': 1, 'fl_floodzone': 0, 'state_building': 'MISSING', 'primary_energy_consumption_sqm': 17543.0, 'epc': 'G', 'heating_type': 'GAS', 'fl_double_glazing': 1, 'cadastral_income': 1.0}\n"
     ]
    }
   ],
   "source": [
    "import json\n",
    "d = {\"property_type\":\"APARTMENT\",\"subproperty_type\":\"APARTMENT\",\"region\":\"Brussels-Capital\",\"province\":\"Brussels\",\"locality\":\"Brussels\",\"zip_code\":1000,\"latitude\":50.855966,\"longitude\":4.3498431,\"construction_year\":2021.0,\"total_area_sqm\":70.0,\"surface_land_sqm\":70.0,\"nbr_frontages\":2.0,\"nbr_bedrooms\":1.0,\"equipped_kitchen\":\"MISSING\",\"fl_furnished\":0,\"fl_open_fire\":0,\"fl_terrace\":1,\"terrace_sqm\":10.0,\"fl_garden\":0,\"garden_sqm\":0.0,\"fl_swimming_pool\":1,\"fl_floodzone\":0,\"state_building\":\"MISSING\",\"primary_energy_consumption_sqm\":17543.0,\"epc\":\"G\",\"heating_type\":\"GAS\",\"fl_double_glazing\":1,\"cadastral_income\":1.0}\n",
    "print(json.dumps(d))\n",
    "print(d)"
   ]
  }
 ],
 "metadata": {
  "kernelspec": {
   "display_name": "venv",
   "language": "python",
   "name": "python3"
  },
  "language_info": {
   "codemirror_mode": {
    "name": "ipython",
    "version": 3
   },
   "file_extension": ".py",
   "mimetype": "text/x-python",
   "name": "python",
   "nbconvert_exporter": "python",
   "pygments_lexer": "ipython3",
   "version": "3.12.1"
  }
 },
 "nbformat": 4,
 "nbformat_minor": 2
}
